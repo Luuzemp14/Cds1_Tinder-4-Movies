{
 "cells": [
  {
   "cell_type": "markdown",
   "id": "d30a77f9",
   "metadata": {},
   "source": [
    "### install tmbd package\n",
    "pip install tmdbv3api\n",
    "\n",
    "API overview, keywords, ect.\n",
    "https://developers.themoviedb.org/3/getting-started/introduction"
   ]
  },
  {
   "cell_type": "code",
   "execution_count": 62,
   "id": "c8cf1068",
   "metadata": {},
   "outputs": [],
   "source": [
    "from tmdbv3api import *\n",
    "\n",
    "# initialize a TMDb object and set your API Key.\n",
    "tmdb = TMDb()\n",
    "tmdb.api_key = 'f831ad4674ee3f8502035db2a48af4c6'\n",
    "\n",
    "# define language and enable debug\n",
    "tmdb.language = 'en'\n",
    "tmdb.debug = True"
   ]
  },
  {
   "cell_type": "code",
   "execution_count": 110,
   "id": "09d7ae53",
   "metadata": {
    "scrolled": true
   },
   "outputs": [],
   "source": [
    "# movies with release date greater than or equal to 2010-01-01 \n",
    "# and less than or equal to 2020-12-31 \n",
    "\n",
    "discover = Discover()\n",
    "movie_lst = discover.discover_movies({\n",
    "    \"release_date.gte\": \"2010-01-01\",\n",
    "    \"release_date.lte\": \"2020-12-31\"\n",
    "})"
   ]
  },
  {
   "cell_type": "code",
   "execution_count": 111,
   "id": "3bff69be",
   "metadata": {},
   "outputs": [
    {
     "data": {
      "text/plain": [
       "20"
      ]
     },
     "execution_count": 111,
     "metadata": {},
     "output_type": "execute_result"
    }
   ],
   "source": [
    "len(movie_lst)"
   ]
  },
  {
   "cell_type": "code",
   "execution_count": 107,
   "id": "bfc40d0d",
   "metadata": {
    "scrolled": false
   },
   "outputs": [
    {
     "data": {
      "text/plain": [
       "[{'id': 28, 'name': 'Action'},\n",
       " {'id': 12, 'name': 'Adventure'},\n",
       " {'id': 16, 'name': 'Animation'},\n",
       " {'id': 35, 'name': 'Comedy'},\n",
       " {'id': 80, 'name': 'Crime'},\n",
       " {'id': 99, 'name': 'Documentary'},\n",
       " {'id': 18, 'name': 'Drama'},\n",
       " {'id': 10751, 'name': 'Family'},\n",
       " {'id': 14, 'name': 'Fantasy'},\n",
       " {'id': 36, 'name': 'History'},\n",
       " {'id': 27, 'name': 'Horror'},\n",
       " {'id': 10402, 'name': 'Music'},\n",
       " {'id': 9648, 'name': 'Mystery'},\n",
       " {'id': 10749, 'name': 'Romance'},\n",
       " {'id': 878, 'name': 'Science Fiction'},\n",
       " {'id': 10770, 'name': 'TV Movie'},\n",
       " {'id': 53, 'name': 'Thriller'},\n",
       " {'id': 10752, 'name': 'War'},\n",
       " {'id': 37, 'name': 'Western'}]"
      ]
     },
     "execution_count": 107,
     "metadata": {},
     "output_type": "execute_result"
    }
   ],
   "source": [
    "genre = Genre()\n",
    "genre_lst = genre.movie_list()\n",
    "genre_lst"
   ]
  },
  {
   "cell_type": "markdown",
   "id": "a9b04961",
   "metadata": {},
   "source": [
    "## Requests"
   ]
  },
  {
   "cell_type": "code",
   "execution_count": 65,
   "id": "cb02006f",
   "metadata": {
    "scrolled": true
   },
   "outputs": [
    {
     "data": {
      "text/plain": [
       "'{\"page\": 1, \"results\": [{\"adult\": false, \"backdrop_path\": \"/gB2xvyQCsKmYhfKdcipyBjmDdsH.jpg\", \"genre_ids\": [10749, 12, 18], \"id\": 290512, \"original_language\": \"en\", \"original_title\": \"The Mountain Between Us\", \"overview\": \"Stranded after a tragic plane crash, two strangers must forge a connection to survive the extreme elements of a remote snow covered mountain. When they realize help is not coming, they embark on a perilous journey across the wilderness.\", \"popularity\": 239.315, \"poster_path\": \"/3XNfYTW4XGscI81nXMSWGsQ8cpu.jpg\", \"release_date\": \"2017-10-05\", \"title\": \"The Mountain Between Us\", \"video\": false, \"vote_average\": 6.6, \"vote_count\": 2000}, {\"adult\": false, \"backdrop_path\": \"/bAup7FGUlmNVOuhZFlLgmDPo0Eg.jpg\", \"genre_ids\": [18, 14], \"id\": 345938, \"original_language\": \"en\", \"original_title\": \"The Shack\", \"overview\": \"After suffering a family tragedy, Mack Phillips spirals into a deep depression causing him to question his innermost beliefs. Facing a crisis of faith, he receives a mysterious letter urging him to an abandoned shack deep in the Oregon wilderness. Despite his doubts, Mack journeys to the shack and encounters an enigmatic trio of strangers led by a woman named Papa. Through this meeting, Mack finds important truths that will transform his understanding of his tragedy and change his life forever.\", \"popularity\": 337.085, \"poster_path\": \"/doAzav9kfdtsoSdw1MDFvjKq3J4.jpg\", \"release_date\": \"2017-03-03\", \"title\": \"The Shack\", \"video\": false, \"vote_average\": 7.5, \"vote_count\": 1763}, {\"adult\": false, \"backdrop_path\": \"/askg3SMvhqEl4OL52YuvdtY40Yb.jpg\", \"genre_ids\": [10751, 16, 14, 10402, 35, 12], \"id\": 354912, \"original_language\": \"en\", \"original_title\": \"Coco\", \"overview\": \"Despite his family\\\\u2019s baffling generations-old ban on music, Miguel dreams of becoming an accomplished musician like his idol, Ernesto de la Cruz. Desperate to prove his talent, Miguel finds himself in the stunning and colorful Land of the Dead following a mysterious chain of events. Along the way, he meets charming trickster Hector, and together, they set off on an extraordinary journey to unlock the real story behind Miguel\\'s family history.\", \"popularity\": 268.709, \"poster_path\": \"/gGEsBPAijhVUFoiNpgZXqRVWJt2.jpg\", \"release_date\": \"2017-10-27\", \"title\": \"Coco\", \"video\": false, \"vote_average\": 8.2, \"vote_count\": 16142}, {\"adult\": false, \"backdrop_path\": \"/sDiGcjWhSu42dCw0jQmBInAkDZ9.jpg\", \"genre_ids\": [28, 53], \"id\": 379149, \"original_language\": \"en\", \"original_title\": \"The Foreigner\", \"overview\": \"Quan is a humble London businessman whose long-buried past erupts in a revenge-fueled vendetta when the only person left for him to love \\\\u2013 his teenage daughter \\\\u2013 dies in an Irish Republican Army car bombing. His relentless search to find the terrorists leads to a cat-and-mouse conflict with a British government official whose own past may hold the clues to the identities of the elusive killers.\", \"popularity\": 203.794, \"poster_path\": \"/rwM4hzrmc5HiWfQD9ls9DL4QgGl.jpg\", \"release_date\": \"2017-09-28\", \"title\": \"The Foreigner\", \"video\": false, \"vote_average\": 6.9, \"vote_count\": 2097}, {\"adult\": false, \"backdrop_path\": \"/l49X7KxytkRCdXrpAu92QqxVrN5.jpg\", \"genre_ids\": [27, 9648, 53], \"id\": 55341, \"original_language\": \"en\", \"original_title\": \"Jeepers Creepers 3\", \"overview\": \"Taking place on the last day of the Creeper\\\\u2019s twenty-three-day feeding frenzy, as the skeptical Sergeant Tubbs teams up with a task force hellbent on destroying the Creeper for good. The Creeper fights back in gory glory as its enemies grow closer than ever before to learning the secret of its dark origins.\", \"popularity\": 168.73, \"poster_path\": \"/pK7ge28ubs45av9aGEbVWW7ZbA8.jpg\", \"release_date\": \"2017-09-26\", \"title\": \"Jeepers Creepers 3\", \"video\": false, \"vote_average\": 4.9, \"vote_count\": 680}, {\"adult\": false, \"backdrop_path\": \"/daOd8KBGDdsOhVdzXB3KU5fgBd2.jpg\", \"genre_ids\": [18], \"id\": 453354, \"original_language\": \"fr\", \"original_title\": \"Ava\", \"overview\": \"Ava, 13, is spending the summer on the Atlantic coast when she learns that she will lose her sight sooner than expected. Her mother decides to act as if everything were normal so as to spend their best summer ever. Ava confronts the problem in her own way. She steals a big black dog that belongs to a young man on the run...\", \"popularity\": 167.152, \"poster_path\": \"/cUI1PFsrQVJR3IZOpkfsOOOUhTO.jpg\", \"release_date\": \"2017-06-21\", \"title\": \"Ava\", \"video\": false, \"vote_average\": 6.2, \"vote_count\": 157}, {\"adult\": false, \"backdrop_path\": \"/4mlS1MitcOqdPLhxEFyk9Qwf5rr.jpg\", \"genre_ids\": [16, 12, 35, 10751], \"id\": 260514, \"original_language\": \"en\", \"original_title\": \"Cars 3\", \"overview\": \"Blindsided by a new generation of blazing-fast racers, the legendary Lightning McQueen is suddenly pushed out of the sport he loves. To get back in the game, he will need the help of an eager young race technician with her own plan to win, inspiration from the late Fabulous Hudson Hornet, and a few unexpected turns. Proving that #95 isn\\'t through yet will test the heart of a champion on Piston Cup Racing\\\\u2019s biggest stage!\", \"popularity\": 158.065, \"poster_path\": \"/fyy1nDC8wm553FCiBDojkJmKLCs.jpg\", \"release_date\": \"2017-06-15\", \"title\": \"Cars 3\", \"video\": false, \"vote_average\": 6.8, \"vote_count\": 4690}, {\"adult\": false, \"backdrop_path\": \"/kaIfm5ryEOwYg8mLbq8HkPuM1Fo.jpg\", \"genre_ids\": [28, 12, 14, 878, 35], \"id\": 284053, \"original_language\": \"en\", \"original_title\": \"Thor: Ragnarok\", \"overview\": \"Thor is imprisoned on the other side of the universe and finds himself in a race against time to get back to Asgard to stop Ragnarok, the destruction of his home-world and the end of Asgardian civilization, at the hands of a powerful new threat, the ruthless Hela.\", \"popularity\": 154.137, \"poster_path\": \"/rzRwTcFvttcN1ZpX2xv4j3tSdJu.jpg\", \"release_date\": \"2017-10-24\", \"title\": \"Thor: Ragnarok\", \"video\": false, \"vote_average\": 7.6, \"vote_count\": 18227}, {\"adult\": false, \"backdrop_path\": \"/n6rv1hySg2Ie0UyJENwnnJWb3no.jpg\", \"genre_ids\": [28, 16, 12], \"id\": 575249, \"original_language\": \"ja\", \"original_title\": \"Dragon Ball Z: The Real 4-D at \\\\u8d85\\\\u5929\\\\u4e0b\\\\u4e00\\\\u6b66\\\\u9053\\\\u4f1a\", \"overview\": \"Dragon Ball Z: The Real 4-D at Super Tenkaichi Budoka is a cinematic attraction at Universal Studios Japan and the successor to Dragon Ball Z: The Real 4-D. Like its predecessor, it is a new installment in the Dragon Ball series, this time primarily featuring the face off between Super Saiyan Blue Goku and Broly God.\", \"popularity\": 138.936, \"poster_path\": \"/bsML7r1iijCiGjowbcUfsgtrUWH.jpg\", \"release_date\": \"2017-06-30\", \"title\": \"Dragon Ball Z: The Real 4-D at Super Tenkaichi Budokai\", \"video\": false, \"vote_average\": 6.9, \"vote_count\": 17}, {\"adult\": false, \"backdrop_path\": \"/4QLdZ2A8mkDWp2rpfgDrwmeCtUW.jpg\", \"genre_ids\": [28, 12, 80], \"id\": 47971, \"original_language\": \"en\", \"original_title\": \"xXx: Return of Xander Cage\", \"overview\": \"Extreme athlete turned government operative Xander Cage comes out of self-imposed exile, thought to be long dead, and is set on a collision course with deadly alpha warrior Xiang and his team in a race to recover a sinister and seemingly unstoppable weapon known as Pandora\\'s Box. Recruiting an all-new group of thrill-seeking cohorts, Xander finds himself enmeshed in a deadly conspiracy that points to collusion at the highest levels of world governments.\", \"popularity\": 159.449, \"poster_path\": \"/hba8zREJpP1AYhaXgb2oJLQeO0K.jpg\", \"release_date\": \"2017-01-13\", \"title\": \"xXx: Return of Xander Cage\", \"video\": false, \"vote_average\": 6, \"vote_count\": 6716}, {\"adult\": false, \"backdrop_path\": \"/wyv2Y9vXYJwJzF6cNVuVwVOsOUj.jpg\", \"genre_ids\": [18, 14, 28], \"id\": 397567, \"original_language\": \"ko\", \"original_title\": \"\\\\uc2e0\\\\uacfc\\\\ud568\\\\uaed8-\\\\uc8c4\\\\uc640 \\\\ubc8c\", \"overview\": \"Having died unexpectedly, firefighter Ja-hong is taken to the afterlife by 3 afterlife guardians. Only when he passes 7 trials over 49 days and proves he was innocent in human life, he\\\\u2019s able to reincarnate, and his 3 afterlife guardians are by his side to defend him in trial.\", \"popularity\": 119.52, \"poster_path\": \"/gJSvIsI6oQfFim0PGyuuiCYfqKs.jpg\", \"release_date\": \"2017-12-14\", \"title\": \"Along with the Gods: The Two Worlds\", \"video\": false, \"vote_average\": 8.1, \"vote_count\": 684}, {\"adult\": false, \"backdrop_path\": \"/uO6ZUez70Twan92pqoV60T9kiGH.jpg\", \"genre_ids\": [99], \"id\": 440249, \"original_language\": \"en\", \"original_title\": \"After Porn Ends 2\", \"overview\": \"After Porn Ends 2 picks up where its predecessor left off and not only turns back the clock to meet the oldest living stars in adult film\\'s history, but goes in depth with some of Its most current retirees and juxtaposes their experiences in a life after porn. Delving deeper into society\\'s ongoing stigmas of race, misogyny, and the reality of decreasing opportunities for these former VHS box cover stars. For some, their careers in adult entertainment is accepted proudly and without regret. In fact, it seems to have proven to be the pathway to their current happiness and inner peace. For others, however, a career in porn has proven to be a conduit to certain despair as they struggle to find a way to bury their past and emerge with a new career or calling.\", \"popularity\": 123.215, \"poster_path\": \"/rfItXrtDGILwsCdmgVxX79phFuI.jpg\", \"release_date\": \"2017-03-28\", \"title\": \"After Porn Ends 2\", \"video\": false, \"vote_average\": 5.4, \"vote_count\": 201}, {\"adult\": false, \"backdrop_path\": \"/tTlAA0REGPXSZPBfWyTW9ipIv1I.jpg\", \"genre_ids\": [28, 12, 878, 18], \"id\": 315635, \"original_language\": \"en\", \"original_title\": \"Spider-Man: Homecoming\", \"overview\": \"Following the events of Captain America: Civil War, Peter Parker, with the help of his mentor Tony Stark, tries to balance his life as an ordinary high school student in Queens, New York City, with fighting crime as his superhero alter ego Spider-Man as a new threat, the Vulture, emerges.\", \"popularity\": 129.918, \"poster_path\": \"/c24sv2weTHPsmDa7jEMN0m2P3RT.jpg\", \"release_date\": \"2017-07-05\", \"title\": \"Spider-Man: Homecoming\", \"video\": false, \"vote_average\": 7.4, \"vote_count\": 19082}, {\"adult\": false, \"backdrop_path\": \"/jLS805N4QmLVPurQwuaCFTNEZss.jpg\", \"genre_ids\": [10751, 16, 12, 14], \"id\": 436931, \"original_language\": \"ja\", \"original_title\": \"\\\\u5287\\\\u5834\\\\u7248 \\\\u30dd\\\\u30b1\\\\u30c3\\\\u30c8\\\\u30e2\\\\u30f3\\\\u30b9\\\\u30bf\\\\u30fc\\\\u3000\\\\u30ad\\\\u30df\\\\u306b\\\\u304d\\\\u3081\\\\u305f\\\\uff01\", \"overview\": \"Ash Ketchum wakes up late one morning after having broken his alarm clock in his sleep. He eventually makes it to Professor Oak\\'s lab, but is told that the three starter List of Pok\\\\u00e9mon (Bulbasaur, Squirtle, and Charmander) have already been taken by Trainers who were on time. However, Oak reveals that he has one more Pok\\\\u00e9mon, an Electric-type named Pikachu. Despite its volatile and feisty personality, as well as its refusal to get inside a Pok\\\\u00e9 Ball, Ash happily takes Pikachu for his journey.\", \"popularity\": 117.906, \"poster_path\": \"/cmpOaiRtjnhLNF2iPslMXCOcVJ.jpg\", \"release_date\": \"2017-07-15\", \"title\": \"Pok\\\\u00e9mon the Movie: I Choose You!\", \"video\": false, \"vote_average\": 7, \"vote_count\": 531}, {\"adult\": false, \"backdrop_path\": \"/axv3VO7AQQ9X0uZB0SPj7Ar8Pm9.jpg\", \"genre_ids\": [10749, 18], \"id\": 482008, \"original_language\": \"ko\", \"original_title\": \"\\\\uce5c\\\\uad6c\\\\ubd80\\\\ubd80 : \\\\uc695\\\\ub9dd\\\\uc758 \\\\uc2a4\\\\uc640\\\\ud551\", \"overview\": \"I\\'m sick and tired of doing it with the same person! We\\'ve already seen everything; why don\\'t we swap?  Seon-joo and Jae-yong and Tae-gyun and Ga-hee are two married couples from the same university. They go on a trip together and get drunk and talk about the good times they had and the times they had sex with each other\\'s husband or wife. At first, they felt jealous over this but from some point on, they dream of something exciting once again.\", \"popularity\": 378.523, \"poster_path\": \"/zn31q3JZ1omyTCBU67Vh0QfJsLd.jpg\", \"release_date\": \"2017-02-14\", \"title\": \"Friend Couples: Swapping\", \"video\": false, \"vote_average\": 2, \"vote_count\": 1}, {\"adult\": false, \"backdrop_path\": null, \"genre_ids\": [28, 80, 53], \"id\": 337339, \"original_language\": \"en\", \"original_title\": \"The Fate of the Furious\", \"overview\": \"When a mysterious woman seduces Dom into the world of crime and a betrayal of those closest to him, the crew face trials that will test them as never before.\", \"popularity\": 123.882, \"poster_path\": \"/dImWM7GJqryWJO9LHa3XQ8DD5NH.jpg\", \"release_date\": \"2017-04-12\", \"title\": \"The Fate of the Furious\", \"video\": false, \"vote_average\": 6.9, \"vote_count\": 9077}, {\"adult\": false, \"backdrop_path\": \"/3uaD05vhpsjiZ9KHpF2TI2GrXON.jpg\", \"genre_ids\": [18, 10770], \"id\": 441168, \"original_language\": \"en\", \"original_title\": \"From Straight A\\'s to XXX\", \"overview\": \"When a change of circumstances leaves Miriam unable to pay her college tuition, she makes a surprising decision: to start performing in adult films, using the pseudonym Belle Knox. Miriam lies to her family and her friends at school, keeping her double life a secret. But soon rumours spread and Miriam becomes the subject of vicious online attacks and unwanted attention. Miriam fights back: she talks to the media, saying her new line of work empowers her as a feminist. But her confident stand has unintended consequences. Miriam is shunned by her conservative family and her colleagues in the adult film world. One impulsive decision has quickly spiralled out of control - and Miriam\\'s problems are just beginning.\", \"popularity\": 112.95, \"poster_path\": \"/pv5n66n3J9DzNeEzGymhQ0q2FcS.jpg\", \"release_date\": \"2017-02-11\", \"title\": \"From Straight A\\'s to XXX\", \"video\": false, \"vote_average\": 5.7, \"vote_count\": 94}, {\"adult\": false, \"backdrop_path\": \"/r17jFHAemzcWPPtoO0UxjIX0xas.jpg\", \"genre_ids\": [28, 53, 80], \"id\": 324552, \"original_language\": \"en\", \"original_title\": \"John Wick: Chapter 2\", \"overview\": \"John Wick is forced out of retirement by a former associate looking to seize control of a shadowy international assassins\\\\u2019 guild. Bound by a blood oath to aid him, Wick travels to Rome and does battle against some of the world\\\\u2019s most dangerous killers.\", \"popularity\": 117.063, \"poster_path\": \"/kL99FVq572hNPfMyfQCT7tGFNeQ.jpg\", \"release_date\": \"2017-02-08\", \"title\": \"John Wick: Chapter 2\", \"video\": false, \"vote_average\": 7.3, \"vote_count\": 10506}, {\"adult\": false, \"backdrop_path\": \"/aJn9XeesqsrSLKcHfHP4u5985hn.jpg\", \"genre_ids\": [12, 28, 878], \"id\": 283995, \"original_language\": \"en\", \"original_title\": \"Guardians of the Galaxy Vol. 2\", \"overview\": \"The Guardians must fight to keep their newfound family together as they unravel the mysteries of Peter Quill\\'s true parentage.\", \"popularity\": 103.082, \"poster_path\": \"/y4MBh0EjBlMuOzv9axM4qJlmhzz.jpg\", \"release_date\": \"2017-04-19\", \"title\": \"Guardians of the Galaxy Vol. 2\", \"video\": false, \"vote_average\": 7.6, \"vote_count\": 18732}, {\"adult\": false, \"backdrop_path\": \"/cAduIGrwDJlypHUCL2mFelJXVRT.jpg\", \"genre_ids\": [9648, 53, 27], \"id\": 419430, \"original_language\": \"en\", \"original_title\": \"Get Out\", \"overview\": \"Chris and his girlfriend Rose go upstate to visit her parents for the weekend. At first, Chris reads the family\\'s overly accommodating behavior as nervous attempts to deal with their daughter\\'s interracial relationship, but as the weekend progresses, a series of increasingly disturbing discoveries lead him to a truth that he never could have imagined.\", \"popularity\": 119.502, \"poster_path\": \"/tFXcEccSQMf3lfhfXKSU9iRBpa3.jpg\", \"release_date\": \"2017-02-24\", \"title\": \"Get Out\", \"video\": false, \"vote_average\": 7.6, \"vote_count\": 14658}], \"total_pages\": 1262, \"total_results\": 25236}'"
      ]
     },
     "execution_count": 65,
     "metadata": {},
     "output_type": "execute_result"
    }
   ],
   "source": [
    "import requests,json,csv,os\n",
    "\n",
    "API_key = 'f831ad4674ee3f8502035db2a48af4c6'\n",
    "Movie_ID = '464052'\n",
    "\n",
    "def get_data():\n",
    "    query = 'https://api.themoviedb.org/3/discover/movie?api_key={}&primary_release_year=2017'.format(API_key)\n",
    "    response =  requests.get(query)\n",
    "    if response.status_code==200: \n",
    "    #status code ==200 indicates the API query was successful\n",
    "        array = response.json()\n",
    "        text = json.dumps(array)\n",
    "        return (text)\n",
    "    else:\n",
    "        return (\"error\")\n",
    "    \n",
    "data = get_data()\n",
    "data"
   ]
  },
  {
   "cell_type": "code",
   "execution_count": null,
   "id": "bd013ed5",
   "metadata": {},
   "outputs": [],
   "source": []
  }
 ],
 "metadata": {
  "kernelspec": {
   "display_name": "Python 3",
   "language": "python",
   "name": "python3"
  },
  "language_info": {
   "codemirror_mode": {
    "name": "ipython",
    "version": 3
   },
   "file_extension": ".py",
   "mimetype": "text/x-python",
   "name": "python",
   "nbconvert_exporter": "python",
   "pygments_lexer": "ipython3",
   "version": "3.8.8"
  }
 },
 "nbformat": 4,
 "nbformat_minor": 5
}
