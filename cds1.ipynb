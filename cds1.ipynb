{
 "cells": [
  {
   "cell_type": "markdown",
   "id": "28f7c0e7",
   "metadata": {},
   "source": [
    "### install tmbd package\n",
    "pip install tmdbv3api\n",
    "\n",
    "API overview, keywords, ect.\n",
    "https://developers.themoviedb.org/3/getting-started/introduction"
   ]
  },
  {
   "cell_type": "code",
   "execution_count": 13,
   "id": "c8cf1068",
   "metadata": {},
   "outputs": [],
   "source": [
    "from tmdbv3api import TMDb\n",
    "\n",
    "# initialize a TMDb object and set your API Key.\n",
    "tmdb = TMDb()\n",
    "tmdb.api_key = 'f831ad4674ee3f8502035db2a48af4c6'"
   ]
  },
  {
   "cell_type": "code",
   "execution_count": 14,
   "id": "665bcd09",
   "metadata": {},
   "outputs": [],
   "source": [
    "# define language and enable debug\n",
    "tmdb.language = 'en'\n",
    "tmdb.debug = True"
   ]
  },
  {
   "cell_type": "code",
   "execution_count": 15,
   "id": "bfc40d0d",
   "metadata": {
    "scrolled": false
   },
   "outputs": [
    {
     "name": "stdout",
     "output_type": "stream",
     "text": [
      "985939\n",
      "Fall\n",
      "For best friends Becky and Hunter, life is all about conquering fears and pushing limits. But after they climb 2,000 feet to the top of a remote, abandoned radio tower, they find themselves stranded with no way down. Now Becky and Hunter’s expert climbing skills will be put to the ultimate test as they desperately fight to survive the elements, a lack of supplies, and vertigo-inducing heights\n",
      "/rUwhgbwn4afF7PFBoQE2BBysFIg.jpg\n",
      "532639\n",
      "Pinocchio\n",
      "A wooden puppet embarks on a thrilling adventure to become a real boy.\n",
      "/h32gl4a3QxQWNiNaR4Fc1uvLBkV.jpg\n",
      "760741\n",
      "Beast\n",
      "A recently widowed man and his two teenage daughters travel to a game reserve in South Africa. However, their journey of healing soon turns into a fight for survival when a bloodthirsty lion starts to stalk them.\n",
      "/iRV0IB5xQeOymuGGUBarTecQVAl.jpg\n",
      "629176\n",
      "Samaritan\n",
      "Thirteen year old Sam Cleary  suspects that his mysteriously reclusive neighbor Mr. Smith is actually the legendary vigilante Samaritan, who was reported dead 20 years ago. With crime on the rise and the city on the brink of chaos, Sam makes it his mission to coax his neighbor out of hiding to save the city from ruin.\n",
      "/vwq5iboxYoaSpOmEQrhq9tHicq7.jpg\n",
      "579974\n",
      "RRR\n",
      "A fictional history of two legendary revolutionaries' journey away from home before they began fighting for their country in the 1920s.\n",
      "/wE0I6efAW4cDDmZQWtwZMOW44EJ.jpg\n",
      "610150\n",
      "Dragon Ball Super: Super Hero\n",
      "The Red Ribbon Army, an evil organization that was once destroyed by Goku in the past, has been reformed by a group of people who have created new and mightier Androids, Gamma 1 and Gamma 2, and seek vengeance against Goku and his family.\n",
      "/rugyJdeoJm7cSJL1q4jBpTNbxyU.jpg\n",
      "616037\n",
      "Thor: Love and Thunder\n",
      "After his retirement is interrupted by Gorr the God Butcher, a galactic killer who seeks the extinction of the gods, Thor Odinson enlists the help of King Valkyrie, Korg, and ex-girlfriend Jane Foster, who now wields Mjolnir as the Mighty Thor. Together they embark upon a harrowing cosmic adventure to uncover the mystery of the God Butcher’s vengeance and stop him before it’s too late.\n",
      "/pIkRyD18kl4FhoCNQuWxWu5cBLM.jpg\n",
      "921360\n",
      "Wire Room\n",
      "New recruit Justin Rosa must monitor arms-smuggling cartel member Eddie Flynn — and keep him alive at all costs. When a SWAT team descends on Flynn’s home, Rosa breaks protocol and contacts the gangster directly to save his life. As gunmen break into the Wire Room and chaos erupts, Mueller and Rosa make a final, desperate stand against the corrupt agents and officials who seek to destroy evidence and kill them both.\n",
      "/b9ykj4v8ykjRoGB7SpI1OuxblNU.jpg\n",
      "766507\n",
      "Prey\n",
      "When danger threatens her camp, the fierce and highly skilled Comanche warrior Naru sets out to protect her people. But the prey she stalks turns out to be a highly evolved alien predator with a technically advanced arsenal.\n",
      "/ujr5pztc1oitbe7ViMUOilFaJ7s.jpg\n",
      "960700\n",
      "Fullmetal Alchemist: The Revenge of Scar\n",
      "In this sequel to the 2017 live-action netflix Adaptation of the manga the Elric brothers meet their toughest opponent yet — a lone serial killer with a large scar on his forehead.\n",
      "/c5OwwBNyJkwyroIOIJL9IiRjydR.jpg\n",
      "539681\n",
      "DC League of Super-Pets\n",
      "When Superman and the rest of the Justice League are kidnapped, Krypto the Super-Dog must convince a rag-tag shelter pack - Ace the hound, PB the potbellied pig, Merton the turtle and Chip the squirrel - to master their own newfound powers and help him rescue the superheroes.\n",
      "/r7XifzvtezNt31ypvsmb6Oqxw49.jpg\n",
      "507086\n",
      "Jurassic World Dominion\n",
      "Four years after Isla Nublar was destroyed, dinosaurs now live—and hunt—alongside humans all over the world. This fragile balance will reshape the future and determine, once and for all, whether human beings are to remain the apex predators on a planet they now share with history’s most fearsome creatures.\n",
      "/kAVRgw7GgK1CfYEJq8ME6EvRIgU.jpg\n",
      "773867\n",
      "Seoul Vibe\n",
      "Chasing speed, dreams and money, a team of drivers get involved in the slush fund investigation of a powerful figure during the 1988 Seoul Olympics.\n",
      "/ffX0TL3uKerLXACkuZGWhAPMbAq.jpg\n",
      "361743\n",
      "Top Gun: Maverick\n",
      "After more than thirty years of service as one of the Navy’s top aviators, and dodging the advancement in rank that would ground him, Pete “Maverick” Mitchell finds himself training a detachment of TOP GUN graduates for a specialized mission the likes of which no living pilot has ever seen.\n",
      "/62HCnUTziyWcpDaBO2i1DX17ljH.jpg\n",
      "438148\n",
      "Minions: The Rise of Gru\n",
      "A fanboy of a supervillain supergroup known as the Vicious 6, Gru hatches a plan to become evil enough to join them, with the backup of his followers, the Minions.\n",
      "/wKiOkZTN9lUUUNZLmtnwubZYONg.jpg\n",
      "838197\n",
      "Watch Out, We're Mad\n",
      "Carezza and Sorriso, brothers very different from each other and in quarrel since childhood, will have to put aside their controversies to recover the legendary Dune Buggy, once belonged to their beloved father and now stolen from him by Torsillo, an unscrupulous building speculator, and his son Raniero. In doing so, they will forge an unusual alliance with a circus community, headed by the beautiful and dangerous Miriam and threatened by Torsillo's dirty business. Between daring chases, memorable fights and delicate meals based on beer and sausages, will the two brothers be able to find their beloved car?\n",
      "/qlrRi05x5hjoM29hz6TDLGTUSop.jpg\n",
      "760161\n",
      "Orphan: First Kill\n",
      "After escaping from an Estonian psychiatric facility, Leena Klammer travels to America by impersonating Esther, the missing daughter of a wealthy family. But when her mask starts to slip, she is put against a mother who will protect her family from the murderous “child” at any cost.\n",
      "/wSqAXL1EHVJ3MOnJzMhUngc8gFs.jpg\n",
      "756999\n",
      "The Black Phone\n",
      "Finney Blake, a shy but clever 13-year-old boy, is abducted by a sadistic killer and trapped in a soundproof basement where screaming is of little use. When a disconnected phone on the wall begins to ring, Finney discovers that he can hear the voices of the killer’s previous victims. And they are dead set on making sure that what happened to them doesn’t happen to Finney.\n",
      "/lr11mCT85T1JanlgjMuhs9nMht4.jpg\n",
      "927341\n",
      "Hunting Ava Bravo\n",
      "Billionaire sportsman Buddy King unwinds by hunting human captives on his remote mountain estate. But his latest victim, Ava Bravo is no easy target.\n",
      "/etc6HKBEhNySNnYU2nRgbSeIyoW.jpg\n",
      "762504\n",
      "Nope\n",
      "Residents in a lonely gulch of inland California bear witness to an uncanny, chilling discovery.\n",
      "/AcKVlWaNVVVFQwro3nLXqPljcYA.jpg\n"
     ]
    }
   ],
   "source": [
    "from tmdbv3api import Movie\n",
    "\n",
    "# Example: infos for most popular movies\n",
    "\n",
    "movie = Movie()\n",
    "popular = movie.popular()\n",
    "\n",
    "for p in popular:\n",
    "    print(p.id)\n",
    "    print(p.title)\n",
    "    print(p.overview)\n",
    "    print(p.poster_path)"
   ]
  },
  {
   "cell_type": "code",
   "execution_count": null,
   "id": "b1414585",
   "metadata": {},
   "outputs": [],
   "source": []
  }
 ],
 "metadata": {
  "kernelspec": {
   "display_name": "Python 3",
   "language": "python",
   "name": "python3"
  },
  "language_info": {
   "codemirror_mode": {
    "name": "ipython",
    "version": 3
   },
   "file_extension": ".py",
   "mimetype": "text/x-python",
   "name": "python",
   "nbconvert_exporter": "python",
   "pygments_lexer": "ipython3",
   "version": "3.8.8"
  }
 },
 "nbformat": 4,
 "nbformat_minor": 5
}
